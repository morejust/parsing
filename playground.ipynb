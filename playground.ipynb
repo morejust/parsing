{
 "cells": [
  {
   "cell_type": "code",
   "execution_count": 1,
   "metadata": {},
   "outputs": [],
   "source": [
    "from html.parser import HTMLParser\n",
    "\n",
    "class MyHTMLParser(HTMLParser):\n",
    "    def _my_hack_init(self, text):\n",
    "        self.text = text\n",
    "        self.prepared_text = ''\n",
    "        self.html_tags_offsets = []\n",
    "        self.raw_text = ''\n",
    "        self.prev_text_end = 0\n",
    "    \n",
    "    def handle_data(self, data):\n",
    "        \n",
    "        text_start = self.getpos()[1]\n",
    "        text_end = text_start + len(data)\n",
    "        \n",
    "        # TODO: there are some encoding problem, try to parse this:\n",
    "        # https://wiki.swap.online/decentralized-exchange-of-bitcoins-for-altcoins-right-in-the-browser-live-demo\n",
    "        # if self.text[text_start: text_end] != data:\n",
    "        #     print(self.text[text_start: text_end], '|||', data)\n",
    "        #     print((len(self.raw_text), self.text[self.prev_text_end: text_start]))\n",
    "        #     print()\n",
    "        \n",
    "        self.html_tags_offsets.append((len(self.raw_text), self.text[self.prev_text_end: text_start]))\n",
    "        self.prev_text_end = text_end\n",
    "        self.raw_text += self.text[text_start: text_end]  # can't use 'data' - encoding problem\n",
    "\n",
    "def extract_tags(html_string):\n",
    "    # removing '\\n', '\\t', '  '\n",
    "    html_string = ' '.join(html_string.split())\n",
    "\n",
    "    parser = MyHTMLParser()\n",
    "    parser._my_hack_init(html_string)\n",
    "    parser.feed(html_string)\n",
    "    return (parser.html_tags_offsets, parser.raw_text)"
   ]
  },
  {
   "cell_type": "code",
   "execution_count": 122,
   "metadata": {},
   "outputs": [],
   "source": [
    "from newspaper import Article\n",
    "def parse(url):\n",
    "    try:\n",
    "        a = Article(url, keep_article_html=True)\n",
    "        a.download()\n",
    "        a.parse()\n",
    "        a.nlp()\n",
    "\n",
    "        return  {\n",
    "            \"author\": \", \".join(a.authors),\n",
    "            \"source\": a.source_url[a.source_url.find(\"//\") + 2:].split(\"/\")[0],\n",
    "            \"title\": a.title,\n",
    "            \"image\": a.top_image,\n",
    "            \"url\": a.url,\n",
    "            \"publishedAt\": a.publish_date,\n",
    "            \"html\": a.article_html,\n",
    "            \"text\": a.text,\n",
    "            \"summary\": a.summary,\n",
    "            \"keywords\": a.keywords,\n",
    "        }\n",
    "    except Exception as e:\n",
    "        print(e)\n",
    "        return { 'error': True, 'description': \"'%s' parsing went wrong with error: '%s'\" % (url, e)}"
   ]
  },
  {
   "cell_type": "code",
   "execution_count": 123,
   "metadata": {},
   "outputs": [
    {
     "name": "stdout",
     "output_type": "stream",
     "text": [
      "CPU times: user 271 ms, sys: 43.7 ms, total: 314 ms\n",
      "Wall time: 1.91 s\n"
     ]
    }
   ],
   "source": [
    "%%time\n",
    "url = 'https://itnext.io/anyway-heres-how-to-do-ajax-api-calls-with-vue-js-e71e57d5cf12'\n",
    "article = parse(url)\n",
    "html = article['html']"
   ]
  },
  {
   "cell_type": "markdown",
   "metadata": {},
   "source": [
    "_____\n",
    "_____"
   ]
  },
  {
   "cell_type": "code",
   "execution_count": 130,
   "metadata": {},
   "outputs": [
    {
     "name": "stdout",
     "output_type": "stream",
     "text": [
      "<br>anti-pattern</li></ul><p class=\"aspectRatioPlaceholder-fill\"></p><img class=\"graf-image\" src=\"https://cdn-images-1.medium.com/max/1600/1*7Hkh8kNcJqIOAm3B59qsRg.png\">From Vuex&#8217;s documentation<ul class=\"postList\"><li name=\"4ec6\" id=\"4ec6\" class=\"graf graf--li graf-after--figure\"><strong class=\"markup--strong markup--li-strong\">Components</strong>: You could directly make AJAX calls in the methods of your component<br>- <strong class=\"markup--strong markup--li-strong\">PROS</strong>: You just use what you need and have no overload<br>- <strong class=\"markup--strong markup--li-strong\">CONS</strong>: Your calls are scattered everywhere and it can become really hard to maintain. You can create code duplication if two components need the same API call</li></ul><p name=\"1adf\" id=\"1adf\" class=\"graf graf--p graf-after--li\">As you can see, <strong class=\"markup--strong markup--p-strong\">all of them have pros and cons</strong> so which one is the best?<br>Well, none of them, or should I say: <strong class=\"markup--strong markup--p-strong\">All of them</strong>?</p><p name=\"1b7f\" id=\"1b7f\" class=\"graf graf--p graf-after--p\">This is not a Vue problem, it&#8217;s a JavaScript architectural problem.</p><p name=\"39a8\" id=\"39a8\" class=\"graf graf--p graf-after--p\">The question you should ask yourself is: Are my API calls related to Vue?&#160;<br>The answer is: <strong class=\"markup--strong markup--p-strong\">No, they are related to your app</strong>.</p><p name=\"e76f\" id=\"e76f\" class=\"graf graf--p graf-after--p\">Whenever something can be abstracted: <strong class=\"markup--strong markup--p-strong\">abstract it!</strong></p><h4 name=\"418e\" id=\"418e\" class=\"graf graf--h4 graf-after--p\">The solution: Create a separate JS file that you&#160;import</h4><p name=\"2744\" id=\"2744\" class=\"graf graf--p graf-after--h4\">The solution is in fact quite easy. Your API calls need to be centralised and reusable so, why not use something vanilla JS has&#160;: a <strong class=\"markup--strong markup--p-strong\">class </strong>or <strong class=\"markup--strong markup--p-strong\">object literal</strong>.</p><p name=\"2ea6\" id=\"2ea6\" class=\"graf graf--p graf-after--p\">For each API resource, create an API file with an object literal or a static class or just export functions that make the API calls.</p><h4 name=\"eefa\" id=\"eefa\" class=\"graf graf--h4 graf-after--p\">Why is this&#160;better?</h4><ul class=\"postList\"><li name=\"5629\" id=\"5629\" class=\"graf graf--li graf-after--h4\">If you need it in another project that isn&#8217;t a Vue project, well: it&#8217;s reusable&#160;! It&#8217;s just a JS file, right?</li><li name=\"348d\" id=\"348d\" class=\"graf graf--li graf-after--li\">If a path / url changes in the API, it&#8217;s centralised so no need to remember in which action it was called or in which component, just go to your API file and make the changes there&#160;:)</li><li name=\"4ebd\" id=\"4ebd\" class=\"graf graf--li graf-after--li\">Abstraction is always better than tightly coupled logic</li></u\n",
      "3000\n"
     ]
    }
   ],
   "source": [
    "_html = html[3000:6000]\n",
    "print(_html)\n",
    "print(len(_html))\n",
    "html_string = _html"
   ]
  },
  {
   "cell_type": "code",
   "execution_count": 131,
   "metadata": {},
   "outputs": [],
   "source": [
    "def unescape_xml_tags(text):\n",
    "    # TODO: implement proper XML tags replace \n",
    "    # html_string = re.sub(\"&#?\\w+;\", \"'\", html_string)\n",
    "    text = re.sub('&#8217;', \"'\", text)\n",
    "    text = re.sub('&#160;', \" \", text)\n",
    "    text = re.sub('&#8230;', \"…\", text)\n",
    "    return text\n",
    "\n",
    "html_string = unescape_xml_tags(html_string)"
   ]
  },
  {
   "cell_type": "code",
   "execution_count": 132,
   "metadata": {},
   "outputs": [
    {
     "data": {
      "text/plain": [
       "'<br>anti-pattern</li></ul><p class=\"aspectRatioPlaceholder-fill\"></p><img class=\"graf-image\" src=\"https://cdn-images-1.medium.com/max/1600/1*7Hkh8kNcJqIOAm3B59qsRg.png\">From Vuex\\'s documentation<ul class=\"postList\"><li name=\"4ec6\" id=\"4ec6\" class=\"graf graf--li graf-after--figure\"><strong class=\"markup--strong markup--li-strong\">Components</strong>: You could directly make AJAX calls in the methods of your component<br>- <strong class=\"markup--strong markup--li-strong\">PROS</strong>: You just use what you need and have no overload<br>- <strong class=\"markup--strong markup--li-strong\">CONS</strong>: Your calls are scattered everywhere and it can become really hard to maintain. You can create code duplication if two components need the same API call</li></ul><p name=\"1adf\" id=\"1adf\" class=\"graf graf--p graf-after--li\">As you can see, <strong class=\"markup--strong markup--p-strong\">all of them have pros and cons</strong> so which one is the best?<br>Well, none of them, or should I say: <strong class=\"markup--strong markup--p-strong\">All of them</strong>?</p><p name=\"1b7f\" id=\"1b7f\" class=\"graf graf--p graf-after--p\">This is not a Vue problem, it\\'s a JavaScript architectural problem.</p><p name=\"39a8\" id=\"39a8\" class=\"graf graf--p graf-after--p\">The question you should ask yourself is: Are my API calls related to Vue? <br>The answer is: <strong class=\"markup--strong markup--p-strong\">No, they are related to your app</strong>.</p><p name=\"e76f\" id=\"e76f\" class=\"graf graf--p graf-after--p\">Whenever something can be abstracted: <strong class=\"markup--strong markup--p-strong\">abstract it!</strong></p><h4 name=\"418e\" id=\"418e\" class=\"graf graf--h4 graf-after--p\">The solution: Create a separate JS file that you import</h4><p name=\"2744\" id=\"2744\" class=\"graf graf--p graf-after--h4\">The solution is in fact quite easy. Your API calls need to be centralised and reusable so, why not use something vanilla JS has : a <strong class=\"markup--strong markup--p-strong\">class </strong>or <strong class=\"markup--strong markup--p-strong\">object literal</strong>.</p><p name=\"2ea6\" id=\"2ea6\" class=\"graf graf--p graf-after--p\">For each API resource, create an API file with an object literal or a static class or just export functions that make the API calls.</p><h4 name=\"eefa\" id=\"eefa\" class=\"graf graf--h4 graf-after--p\">Why is this better?</h4><ul class=\"postList\"><li name=\"5629\" id=\"5629\" class=\"graf graf--li graf-after--h4\">If you need it in another project that isn\\'t a Vue project, well: it\\'s reusable ! It\\'s just a JS file, right?</li><li name=\"348d\" id=\"348d\" class=\"graf graf--li graf-after--li\">If a path / url changes in the API, it\\'s centralised so no need to remember in which action it was called or in which component, just go to your API file and make the changes there :)</li><li name=\"4ebd\" id=\"4ebd\" class=\"graf graf--li graf-after--li\">Abstraction is always better than tightly coupled logic</li></u'"
      ]
     },
     "execution_count": 132,
     "metadata": {},
     "output_type": "execute_result"
    }
   ],
   "source": [
    "html_string"
   ]
  },
  {
   "cell_type": "code",
   "execution_count": 112,
   "metadata": {},
   "outputs": [
    {
     "ename": "TypeError",
     "evalue": "sub() missing 1 required positional argument: 'string'",
     "output_type": "error",
     "traceback": [
      "\u001b[0;31m---------------------------------------------------------------------------\u001b[0m",
      "\u001b[0;31mTypeError\u001b[0m                                 Traceback (most recent call last)",
      "\u001b[0;32m<ipython-input-112-a2ed6c9ae33a>\u001b[0m in \u001b[0;36m<module>\u001b[0;34m()\u001b[0m\n\u001b[1;32m      2\u001b[0m     \u001b[0;32mreturn\u001b[0m \u001b[0mre\u001b[0m\u001b[0;34m.\u001b[0m\u001b[0msub\u001b[0m\u001b[0;34m(\u001b[0m\u001b[0;34m\"&#?\\w+;\"\u001b[0m\u001b[0;34m,\u001b[0m \u001b[0mtext\u001b[0m\u001b[0;34m)\u001b[0m\u001b[0;34m\u001b[0m\u001b[0m\n\u001b[1;32m      3\u001b[0m \u001b[0;34m\u001b[0m\u001b[0m\n\u001b[0;32m----> 4\u001b[0;31m \u001b[0munescape\u001b[0m\u001b[0;34m(\u001b[0m\u001b[0mhtml_string\u001b[0m\u001b[0;34m)\u001b[0m\u001b[0;34m\u001b[0m\u001b[0m\n\u001b[0m",
      "\u001b[0;32m<ipython-input-112-a2ed6c9ae33a>\u001b[0m in \u001b[0;36munescape\u001b[0;34m(text)\u001b[0m\n\u001b[1;32m      1\u001b[0m \u001b[0;32mdef\u001b[0m \u001b[0munescape\u001b[0m\u001b[0;34m(\u001b[0m\u001b[0mtext\u001b[0m\u001b[0;34m)\u001b[0m\u001b[0;34m:\u001b[0m\u001b[0;34m\u001b[0m\u001b[0m\n\u001b[0;32m----> 2\u001b[0;31m     \u001b[0;32mreturn\u001b[0m \u001b[0mre\u001b[0m\u001b[0;34m.\u001b[0m\u001b[0msub\u001b[0m\u001b[0;34m(\u001b[0m\u001b[0;34m\"&#?\\w+;\"\u001b[0m\u001b[0;34m,\u001b[0m \u001b[0mtext\u001b[0m\u001b[0;34m)\u001b[0m\u001b[0;34m\u001b[0m\u001b[0m\n\u001b[0m\u001b[1;32m      3\u001b[0m \u001b[0;34m\u001b[0m\u001b[0m\n\u001b[1;32m      4\u001b[0m \u001b[0munescape\u001b[0m\u001b[0;34m(\u001b[0m\u001b[0mhtml_string\u001b[0m\u001b[0;34m)\u001b[0m\u001b[0;34m\u001b[0m\u001b[0m\n",
      "\u001b[0;31mTypeError\u001b[0m: sub() missing 1 required positional argument: 'string'"
     ]
    }
   ],
   "source": [
    "def unescape(text):\n",
    "    return re.sub(\"&#?\\w+;\", text)\n",
    "\n",
    "unescape(html_string)"
   ]
  },
  {
   "cell_type": "code",
   "execution_count": 107,
   "metadata": {},
   "outputs": [
    {
     "data": {
      "text/plain": [
       "'</p><p name=\"2ea6\" id=\"2ea6\" class=\"graf graf--p graf-after--p\">For each API resource, create an API file with an object literal or a static class or just export functions that make the API calls.</p><h4 name=\"eefa\" id=\"eefa\" class=\"graf graf--h4 graf-after--p\">Why is this\\xa0better?</h4><ul class=\"postList\"><li name=\"5629\" id=\"5629\" class=\"graf graf--li graf-after--h4\">If you need it in another project that isn’t a Vue project, well: it’s reusable\\xa0! It’s just a JS file, right?</li><li name=\"348d\" id=\"348d\" class=\"graf graf--li graf-after--li\">If a path / url changes in the API, it’s centralised so no need to remember in which action it was called or in which component, just go to your API file and make the changes there\\xa0:)</li><li name=\"4ebd\" id=\"4ebd\" class=\"graf graf--li graf-after--li\">Abstraction is always better than tightly coupled logic</li></ul><p name=\"fd5b\" id=\"fd5b\" class=\"graf graf--p graf-after--li\">Here are some screens to understand what I’m saying.</p><p class=\"aspectRatioPlaceholder-fill\"></p><img class=\"graf-image\" src=\"https://cdn-images-1.medium.com/max/1600/1*OTw15TodjuqZzfgjwAnhIA.png\">This is a fresh\\xa0install<p class=\"aspectRatioPlaceholder-fill\"></p><img class=\"graf-image\" src=\"https://cdn-images-1.medium.com/max/1600/1*8WnrdKIVVAzWPmSDGEa0Ig.png\">This is the main.js file where I config axios, the AJAX library (it could be any other library or fetch\\xa0API)</div>'"
      ]
     },
     "execution_count": 107,
     "metadata": {},
     "output_type": "execute_result"
    }
   ],
   "source": [
    "import html\n",
    "\n",
    "s = html.unescape(html_string)\n",
    "s"
   ]
  },
  {
   "cell_type": "code",
   "execution_count": 41,
   "metadata": {},
   "outputs": [
    {
     "data": {
      "text/plain": [
       "'  For each API resource, create an API file with an object literal or a static class or just export functions that make the API calls.  Why is this&#160;better?   If you need it in another project that isn&#8217;t a Vue project, well: it&#8217;s reusable&#160;! It&#8217;s just a JS file, right?  If a path / url changes in the API, it&#8217;s centralised so no need to remember in which action it was called or in which component, just go to your API file and make the changes there&#160;:)  Abstraction is always better than tightly coupled logic   Here are some screens to understand what I&#8217;m saying.    This is a fresh&#160;install   This is the main.js file where I config axios, the AJAX library (it could be any other library or fetch&#160;API) '"
      ]
     },
     "execution_count": 41,
     "metadata": {},
     "output_type": "execute_result"
    }
   ],
   "source": [
    "import re\n",
    "\n",
    "html_string = _html\n",
    "\n",
    "def extract_tags(html_string):\n",
    "    raw_text = \"\"\n",
    "    length_of_cutted_tokens = 0\n",
    "    end_of_prev_token = 0\n",
    "    html_tags_offsets = []\n",
    "    for match in re.finditer('<.*?>', html_string):\n",
    "        s, e, g = match.start(), match.end(), match.group()\n",
    "\n",
    "        token = html_string[s: e]\n",
    "        raw_text += html_string[end_of_prev_token: s] + ' '\n",
    "        html_tags_offsets.append((len(raw_text), g))\n",
    "\n",
    "        end_of_prev_token = match.end()\n",
    "        length_of_cutted_tokens += len(token)\n",
    "\n",
    "    html_tags_offsets = merge_tags(html_tags_offsets)\n",
    "\n",
    "    return (html_tags_offsets, raw_text)"
   ]
  },
  {
   "cell_type": "code",
   "execution_count": 42,
   "metadata": {},
   "outputs": [],
   "source": [
    "def merge_tags(html_tags_offsets):\n",
    "    merged = []\n",
    "    done_offsets = []\n",
    "    for t1 in html_tags_offsets:\n",
    "        if t1[0] in done_offsets:\n",
    "            continue\n",
    "        tags_with_same_offset = [t for o, t in html_tags_offsets if o == t1[0]]\n",
    "        new_tag = \"\".join(tags_with_same_offset)\n",
    "        merged.append((t1[0], new_tag))  \n",
    "        done_offsets.append(t1[0])\n",
    "    return merged\n",
    "\n",
    "def insert_tags(html_tags_offsets, raw_text):\n",
    "    text_with_html = raw_text\n",
    "    shift = 0\n",
    "    for offset, tag_text in sorted(html_tags_offsets, key=lambda x: -x[0]):\n",
    "        shifted_offset = offset \n",
    "        # -1 -> remove space that was added above\n",
    "        text_with_html = text_with_html[:shifted_offset - 1] + tag_text + text_with_html[shifted_offset:]\n",
    "    return text_with_html\n",
    "\n",
    "new_html = insert_tags(html_tags_offsets, raw_text)"
   ]
  },
  {
   "cell_type": "code",
   "execution_count": 43,
   "metadata": {},
   "outputs": [
    {
     "name": "stdout",
     "output_type": "stream",
     "text": [
      "1458\n"
     ]
    },
    {
     "data": {
      "text/plain": [
       "'</p><p name=\"2ea6\" id=\"2ea6\" class=\"graf graf--p graf-after--p\">For each API resource, create an API file with an object literal or a static class or just export functions that make the API calls.</p><h4 name=\"eefa\" id=\"eefa\" class=\"graf graf--h4 graf-after--p\">Why is this&#160;better?</h4><ul class=\"postList\"><li name=\"5629\" id=\"5629\" class=\"graf graf--li graf-after--h4\">If you need it in another project that isn&#8217;t a Vue project, well: it&#8217;s reusable&#160;! It&#8217;s just a JS file, right?</li><li name=\"348d\" id=\"348d\" class=\"graf graf--li graf-after--li\">If a path / url changes in the API, it&#8217;s centralised so no need to remember in which action it was called or in which component, just go to your API file and make the changes there&#160;:)</li><li name=\"4ebd\" id=\"4ebd\" class=\"graf graf--li graf-after--li\">Abstraction is always better than tightly coupled logic</li></ul><p name=\"fd5b\" id=\"fd5b\" class=\"graf graf--p graf-after--li\">Here are some screens to understand what I&#8217;m saying.</p><p class=\"aspectRatioPlaceholder-fill\"></p><img class=\"graf-image\" src=\"https://cdn-images-1.medium.com/max/1600/1*OTw15TodjuqZzfgjwAnhIA.png\">This is a fresh&#160;install<p class=\"aspectRatioPlaceholder-fill\"></p><img class=\"graf-image\" src=\"https://cdn-images-1.medium.com/max/1600/1*8WnrdKIVVAzWPmSDGEa0Ig.png\">This is the main.js file where I config axios, the AJAX library (it could be any other library or fetch&#160;API)</div>'"
      ]
     },
     "execution_count": 43,
     "metadata": {},
     "output_type": "execute_result"
    }
   ],
   "source": [
    "print(len(new_html))\n",
    "new_html"
   ]
  },
  {
   "cell_type": "code",
   "execution_count": 44,
   "metadata": {},
   "outputs": [
    {
     "name": "stdout",
     "output_type": "stream",
     "text": [
      "1458\n"
     ]
    },
    {
     "data": {
      "text/plain": [
       "'</p><p name=\"2ea6\" id=\"2ea6\" class=\"graf graf--p graf-after--p\">For each API resource, create an API file with an object literal or a static class or just export functions that make the API calls.</p><h4 name=\"eefa\" id=\"eefa\" class=\"graf graf--h4 graf-after--p\">Why is this&#160;better?</h4><ul class=\"postList\"><li name=\"5629\" id=\"5629\" class=\"graf graf--li graf-after--h4\">If you need it in another project that isn&#8217;t a Vue project, well: it&#8217;s reusable&#160;! It&#8217;s just a JS file, right?</li><li name=\"348d\" id=\"348d\" class=\"graf graf--li graf-after--li\">If a path / url changes in the API, it&#8217;s centralised so no need to remember in which action it was called or in which component, just go to your API file and make the changes there&#160;:)</li><li name=\"4ebd\" id=\"4ebd\" class=\"graf graf--li graf-after--li\">Abstraction is always better than tightly coupled logic</li></ul><p name=\"fd5b\" id=\"fd5b\" class=\"graf graf--p graf-after--li\">Here are some screens to understand what I&#8217;m saying.</p><p class=\"aspectRatioPlaceholder-fill\"></p><img class=\"graf-image\" src=\"https://cdn-images-1.medium.com/max/1600/1*OTw15TodjuqZzfgjwAnhIA.png\">This is a fresh&#160;install<p class=\"aspectRatioPlaceholder-fill\"></p><img class=\"graf-image\" src=\"https://cdn-images-1.medium.com/max/1600/1*8WnrdKIVVAzWPmSDGEa0Ig.png\">This is the main.js file where I config axios, the AJAX library (it could be any other library or fetch&#160;API)</div>'"
      ]
     },
     "execution_count": 44,
     "metadata": {},
     "output_type": "execute_result"
    }
   ],
   "source": [
    "print(len(_html))\n",
    "_html"
   ]
  },
  {
   "cell_type": "code",
   "execution_count": 39,
   "metadata": {},
   "outputs": [
    {
     "name": "stdout",
     "output_type": "stream",
     "text": [
      "True\n"
     ]
    }
   ],
   "source": [
    "print(_html == new_html)"
   ]
  },
  {
   "cell_type": "code",
   "execution_count": null,
   "metadata": {},
   "outputs": [],
   "source": []
  },
  {
   "cell_type": "code",
   "execution_count": null,
   "metadata": {},
   "outputs": [],
   "source": []
  },
  {
   "cell_type": "code",
   "execution_count": null,
   "metadata": {},
   "outputs": [],
   "source": []
  },
  {
   "cell_type": "code",
   "execution_count": null,
   "metadata": {},
   "outputs": [],
   "source": []
  },
  {
   "cell_type": "code",
   "execution_count": 80,
   "metadata": {},
   "outputs": [],
   "source": [
    "url = \"https://ai.morejust.media/parse?url=https://medium.com/swaponline/atomic-swap-with-usdt-swap-online-solution-in-two-hundred-lines-of-code-c2ddb7b8886a?source=collection_home---4------9---------------------\""
   ]
  },
  {
   "cell_type": "code",
   "execution_count": 81,
   "metadata": {},
   "outputs": [],
   "source": [
    "import requests"
   ]
  },
  {
   "cell_type": "code",
   "execution_count": 82,
   "metadata": {},
   "outputs": [],
   "source": [
    "r = requests.get(url)\n",
    "j = r.json()"
   ]
  },
  {
   "cell_type": "code",
   "execution_count": 83,
   "metadata": {},
   "outputs": [],
   "source": [
    "summary = j[\"summary\"]\n",
    "text = j[\"text\"]"
   ]
  },
  {
   "cell_type": "code",
   "execution_count": 84,
   "metadata": {},
   "outputs": [
    {
     "data": {
      "text/plain": [
       "'Atomic Swap with USDT: Swap Online solution in two hundred lines of codeOn the eve of the release on the mainnet, the team of the cross-chain wallet Swap Online is publishing a research study and the code of the atomic swap using USDT.\\nTether (symbol Tether — ₮, ticker — USDT) is a hybrid cryptocurrency with a rate binding to one US dollar.\\nThis fall, the team of Swap Online is ready to present an atomic swap with Tether.\\nThe payload is a mandatory part of any Omni transaction, as it is a sequence of bytes containing all the necessary information about the transaction.\\nLet us consider what information is stored in the payload itselftransaction marker — 4 bytes, the mandatory part of any Omni payload is always equal to 0x6f6d6e69 — ASCII code omni.'"
      ]
     },
     "execution_count": 84,
     "metadata": {},
     "output_type": "execute_result"
    }
   ],
   "source": [
    "summary"
   ]
  },
  {
   "cell_type": "code",
   "execution_count": 85,
   "metadata": {},
   "outputs": [
    {
     "data": {
      "text/plain": [
       "'Atomic Swap with USDT: Swap Online solution in two hundred lines of code\\n\\nOn the eve of the release on the mainnet, the team of the cross-chain wallet Swap Online is publishing a research study and the code of the atomic swap using USDT.\\n\\nUSD Tether — the equivalent of the dollar on Omni Layer\\n\\nThe solution described above with the protocol “over” the Bitcoin network gave life to one of the most controversial cryptocurrency projects of the last two years — Tether. Tether (symbol Tether — ₮, ticker — USDT) is a hybrid cryptocurrency with a rate binding to one US dollar. Moreover, according to the assurances of Tether Limited, the issuer of the given tokens, the “binding” is to be understood literally, as each purchased token of USDT corresponds to one US dollar available at the disposal of the company.\\n\\nIf we take the three largest exchanges based on their daily turnover of transactions at the time of writing (Binance, OKEx and HuObi), and then track the five most popular trading pairs for each, we will encounter USDT in 13 out of 15 cases.\\n\\nUSDT — the token with the largest capitalization in the world.\\n\\nAll this generates great community interest in faster, safer and cheaper solutions for exchanging Tether into other currencies. Obviously, such a solution could be atomic swaps, which are instant, decentralized cross-chain exchanges. The Komodo laboratory, the main headliners of this technology, who presented it in the autumn of 2017, reported on the successful exchange of KMD to USDT carried out on the BarterDEX platform, Komodo’s own exchanger.\\n\\nAt the same time, according to our data, the developers of Komodo made a swap on the ERC20-a version of Tether, which is only available in 3% of cases. Approximately 60 million USDT from global turnover can thus be exchanged using this method, which, obviously, cannot be considered as a solution to the problem. Striking examples of imperfections of existing solutions can be found even on Etherscan.\\n\\nThis user of the Ethereum network was never able to buy USDT.\\n\\nThis fall, the team of Swap Online is ready to present an atomic swap with Tether. And here’s how we did it.\\n\\nHow Omni conducts transactions\\n\\nTo carry out the Omni transaction, a user needs to create a regular Bitcoin transaction-transfer of 546 satoshi (minimum) with an additional output storing payload using the OP_RETURN op-code. An example of such a transaction. The payload is a mandatory part of any Omni transaction, as it is a sequence of bytes containing all the necessary information about the transaction.\\n\\nLet us consider what information is stored in the payload itself\\n\\ntransaction marker — 4 bytes, the mandatory part of any Omni payload is always equal to 0x6f6d6e69 — ASCII code omni. If the first 4 bytes of the sequence are not equal to 0x6f6d6e69, then this sequence is not a payload of Omni.\\n\\nversion — 2 bytes, an analog version of the transaction in Bitcoin. For the described algorithm to work, version 0 is used, or that is the same as 0x0000.\\n\\ntransaction type — 2 bytes, transaction type, for an atomic swap it is sufficient to use only “Simple send” transactions, as simple send is the usual sending of omni currency from its address to the address of the recipient. Simple send corresponds to the transaction type code 0, that is, the next 2 bytes 0x0000. Other possible types of transactions exist in Omni.\\n\\ntoken identifier — 4 bytes, identifier of the currency used. For example TetherUS has the identifier 31 or 0x0000001f. All tokens created by the Omni protocol at this time can be seen via the following link.\\n\\namount — 8 bytes, for a transaction of type Simple send, this is the amount of the sent currency.\\n\\nAs you can see, payload does not store the addresses of senders and recipients of the transactions, these addresses are determined by the Bitcoin transaction in which the payload output was detected. By scanning inputs, the Omni protocol determines who makes the transfer by finding the output of the corresponding address from among the inputs of the transaction p2pkh.\\n\\nThus, for a transfer from Alice to Bob of, for example, 50,000,000 TetherUS, we need to create a Bitcoin transaction where one of the inputs will refer to the p2pkh output corresponding to the Alice address. It is also important that this entry be the first in this transaction (the index of this entry in the received transaction would be is minimal or none at all). One of the outputs of this transaction should be the output of p2pkh to Bob’s address, and another output must have been one of the outputs with the following payload:\\n\\nExample 1\\n\\nExample 2\\n\\nAtomic Swap on Omni Layer\\n\\nSuppose that Alice and Bob are willing to make an inter-blockchain exchange of cryptocurrencies. Alice wants to exchange the units of any Omni currency, for example TetherUS (the given currency has the currency identifier # 31 in the Mainnet, then in the text we will only talk about this currency of the Omni protocol, since it is the most popular at the moment, but the algorithm below will work for any currency of the Omni protocol as well) for b units of a cryptocurrency working on another blockchain. (Omni works on top of the Bitcoin blockchain, of course, according to the algorithm below it is possible to exchange TetherUS for Bitcoins, but due to their work on one and the same blockchain, this exchange can be done in a different, more efficient way).\\n\\nGlossary\\n\\nA — blockchain of Bitcoin.\\n\\nB — the blockchain of the cryptocurrency for which TetherUS is being exchanged.\\n\\na — the sum of TetherUS, which Alice wants to exchange.\\n\\nb — the sum of the cryptocurrency of the adjoining blockchain B, to which Alice wants to exchange her a TetherUS.\\n\\nCreating a Transaction\\n\\n1) Bob generates a random value secret.\\n\\n2) Bob calculates the secretHash by performing the following operation: secretHash = RIPEMD160 (secret)\\n\\n3) Bob creates and sends an htlc transaction sealed by secretHash\\n\\n4) Bob sends Alice a secretHash value, and a hash of the hrlc transaction he created in the previous paragraph in order for Alice to make sure that the correct htlc transaction is actually present in the B blockchain.\\n\\n5) Alice received from Bob the secretHash and hash of the htlc-transaction Bob created, and is convinced that such a transaction is really present in the B blockchain, and that this is indeed a htlc-transaction sealed by the secretHash value.\\n\\n6) using the received secretHash, Alice creates the following transaction and translates it into the Bitcoin blockchain:\\n\\nLet us call such a transaction financing_tx. In fact, it is almost an ordinary Bitcoin htlc transaction that is used in atomic swap with the only difference that in the amount field, 546 satoshi is the minimum number of Bitcoins that can be at the output of the transaction, below this value, Bitcoin counts the transaction as dust and does not conduct it.\\n\\n7) Alice creates a transaction according to the following scheme:'"
      ]
     },
     "execution_count": 85,
     "metadata": {},
     "output_type": "execute_result"
    }
   ],
   "source": [
    "text"
   ]
  },
  {
   "cell_type": "code",
   "execution_count": 86,
   "metadata": {},
   "outputs": [],
   "source": [
    "from difflib import SequenceMatcher \n",
    "\n",
    "\n",
    "def find_longest_substring(s1, s2): \n",
    "    # returns: offset according s1, substring itself\n",
    "    seqMatch = SequenceMatcher(None, s1, s2) \n",
    "    match = seqMatch.find_longest_match(0, len(s1), 0, len(s2)) \n",
    "    \n",
    "    if (match.size != 0): \n",
    "        return (match.a, s1[match.a: match.a + match.size])\n",
    "    return None, None"
   ]
  },
  {
   "cell_type": "code",
   "execution_count": 89,
   "metadata": {},
   "outputs": [
    {
     "data": {
      "text/plain": [
       "''"
      ]
     },
     "execution_count": 89,
     "metadata": {},
     "output_type": "execute_result"
    }
   ],
   "source": [
    "\"asdasd\".replace(\"asd\", '')"
   ]
  },
  {
   "cell_type": "code",
   "execution_count": 94,
   "metadata": {},
   "outputs": [
    {
     "name": "stdout",
     "output_type": "stream",
     "text": [
      "['associatedmediacoverage.com', 'baltimoregazette.com', 'beforeitsnews.com', 'bients.com', 'bizstandardnews.com', 'civictribune.com', 'civictribune.com', 'creambmp.com', 'corruptmodi.com', 'CountyNewsroom.info', 'dailybuzzlive.comdcgazette.com', 'drudgereport.com.co', 'empirenews.net', 'enduringvision.com', 'indecisionforever.com', 'mediamass.net', 'megynkelly.us', 'msnbc.com.co', 'msnbc.website', 'nationalreport.net', 'news-hound.com', 'newslo.com', 'newsmutiny.com', 'politicalo.com', 'realnewsrightnow.com', 'rilenews.com', 'usatoday.com.co', 'thebostontribune.com']\n"
     ]
    }
   ],
   "source": [
    "import csv\n",
    "fakes = []\n",
    "with open('./data/fakes.csv', 'r') as f:\n",
    "    for row in csv.reader(f):\n",
    "        fakes.append(str(row[0]))\n",
    "print(fakes)"
   ]
  },
  {
   "cell_type": "code",
   "execution_count": 96,
   "metadata": {},
   "outputs": [
    {
     "name": "stdout",
     "output_type": "stream",
     "text": [
      "['associatedmediacoverage.com', 'baltimoregazette.com', 'beforeitsnews.com', 'bients.com', 'bizstandardnews.com', 'civictribune.com', 'civictribune.com', 'creambmp.com', 'corruptmodi.com', 'CountyNewsroom.info', 'dailybuzzlive.comdcgazette.com', 'drudgereport.com.co', 'empirenews.net', 'enduringvision.com', 'indecisionforever.com', 'mediamass.net', 'megynkelly.us', 'msnbc.com.co', 'msnbc.website', 'nationalreport.net', 'news-hound.com', 'newslo.com', 'newsmutiny.com', 'politicalo.com', 'realnewsrightnow.com', 'rilenews.com', 'usatoday.com.co', 'thebostontribune.com']\n"
     ]
    }
   ],
   "source": [
    "with open('./data/fakes.csv', 'r') as f:\n",
    "    fakes = f.readlines()\n",
    "    fakes = [f.strip() for f in fakes]\n",
    "print(fakes)"
   ]
  },
  {
   "cell_type": "code",
   "execution_count": 91,
   "metadata": {
    "scrolled": false
   },
   "outputs": [
    {
     "name": "stdout",
     "output_type": "stream",
     "text": [
      "{'offset': 74, 'phrase': 'On the eve of the release on the mainnet, the team of the cross-chain wallet Swap Online is publishing a research study and the code of the atomic swap using USDT.\\n'}\n",
      "{'offset': 2625, 'phrase': 'transaction marker — 4 bytes, the mandatory part of any Omni payload is always equal to 0x6f6d6e69 — ASCII code omni.'}\n"
     ]
    },
    {
     "data": {
      "text/plain": [
       "[{'offset': 74,\n",
       "  'phrase': 'On the eve of the release on the mainnet, the team of the cross-chain wallet Swap Online is publishing a research study and the code of the atomic swap using USDT.\\n'},\n",
       " {'offset': 2625,\n",
       "  'phrase': 'transaction marker — 4 bytes, the mandatory part of any Omni payload is always equal to 0x6f6d6e69 — ASCII code omni.'}]"
      ]
     },
     "execution_count": 91,
     "metadata": {},
     "output_type": "execute_result"
    }
   ],
   "source": [
    "def extract_facts(post):\n",
    "    text = post[\"text\"]\n",
    "    summary = post[\"summary\"]\n",
    "    result = []\n",
    "    while True:\n",
    "        offset, substring = find_longest_substring(text, summary)\n",
    "        if offset is None:\n",
    "            break\n",
    "        if len(substring) < 20:\n",
    "            break\n",
    "            \n",
    "        result.append({ \"offset\": offset, \"phrase\": substring})\n",
    "\n",
    "        summary = summary.replace(substring, \"\")    \n",
    "        if len(summary) < 50:\n",
    "            break\n",
    "\n",
    "        print({\"offset\": offset, \"phrase\": substring})\n",
    "    return result\n",
    "\n",
    "extract_facts({\"text\": text, \"summary\": summary})"
   ]
  },
  {
   "cell_type": "code",
   "execution_count": null,
   "metadata": {},
   "outputs": [],
   "source": []
  }
 ],
 "metadata": {
  "kernelspec": {
   "display_name": "Python 3",
   "language": "python",
   "name": "python3"
  },
  "language_info": {
   "codemirror_mode": {
    "name": "ipython",
    "version": 3
   },
   "file_extension": ".py",
   "mimetype": "text/x-python",
   "name": "python",
   "nbconvert_exporter": "python",
   "pygments_lexer": "ipython3",
   "version": "3.7.0"
  }
 },
 "nbformat": 4,
 "nbformat_minor": 2
}
